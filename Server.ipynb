{
 "cells": [
  {
   "cell_type": "code",
   "execution_count": 32,
   "metadata": {},
   "outputs": [
    {
     "name": "stdout",
     "output_type": "stream",
     "text": [
      "El archivo ha sido enviado correctamente.\n",
      "Hola, soy el servidor!\n"
     ]
    }
   ],
   "source": [
    "# Importamos las librerias necesarias\n",
    "import socket\n",
    "from socket import error\n",
    "# Establecemos el tipo de socket/conexion\n",
    "sock = socket.socket(socket.AF_INET, socket.SOCK_STREAM)\n",
    "port = 5000 # Puerto de comunicacion\n",
    "sock.bind(('169.254.86.60',port)) # IP y Puerto de conexion en una Tupla\n",
    "\n",
    "print (\"esperando conexiones en el puerto \", port)\n",
    "# Vamos a esperar que un cliente se conecte\n",
    "# Mientras tanto el script se va a pausar\n",
    "sock.listen(3)\n",
    "# Cuando un cliente se conecte vamos a obtener la client_addr osea la direccion\n",
    "# tambien vamos a obtener la con, osea la conexion que servira para enviar datos y recibir datos\n",
    "\n",
    "while True:\n",
    "\n",
    "    con, client_addr =  sock.accept()\n",
    "    text = \"Hola, soy el servidor!\" # El texto que enviaremos\n",
    "    con.send(text.encode())\n",
    "    f = open(\"recibido.wav\", \"wb\")\n",
    "    \n",
    "    while True:\n",
    "        try:\n",
    "            # Recibir datos del cliente.\n",
    "            input_data = con.recv(4096)\n",
    "        except error:\n",
    "            print(\"Error de lectura.\")\n",
    "            break\n",
    "        else:\n",
    "            if input_data:\n",
    "                # Compatibilidad con Python 3.\n",
    "                if isinstance(input_data, bytes):\n",
    "                    end = input_data[0] == 1\n",
    "                else:\n",
    "                    end = input_data == chr(1)\n",
    "                if not end:\n",
    "                    # Almacenar datos.\n",
    "                    f.write(input_data)\n",
    "                else:\n",
    "                    break\n",
    "    \n",
    "    print(\"El archivo se ha recibido correctamente.\")\n",
    "    \n",
    "    # Enviamos el texto al cliente que se conecta\n",
    "    con.close() # Cerramos la conexion\n",
    "\n",
    "sock.close() # Cerramos el socket\n",
    "\n",
    "\n",
    "  \n",
    "    "
   ]
  }
 ],
 "metadata": {
  "kernelspec": {
   "display_name": "Python 3",
   "language": "python",
   "name": "python3"
  }
 },
 "nbformat": 4,
 "nbformat_minor": 2
}