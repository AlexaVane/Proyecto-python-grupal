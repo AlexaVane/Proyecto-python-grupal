{
 "cells": [
  {
   "cell_type": "code",
   "execution_count": 32,
   "metadata": {},
   "outputs": [
    {
     "name": "stdout",
     "output_type": "stream",
     "text": [
      "El archivo ha sido enviado correctamente.\n",
      "Hola, soy el servidor!\n"
     ]
    }
   ],
   "source": [
    "# Importamos las librerias necesarias\n",
    "import socket\n",
    "# Establecemos el tipo de socket/conexion\n",
    "sock = socket.socket(socket.AF_INET, socket.SOCK_STREAM)\n",
    "port = 5000 #puerto de comunicacion\n",
    "ip ='169.254.86.60'\n",
    "# Realizamos la conexion al la IP y puerto\n",
    "sock.connect((ip,port))\n",
    "data = sock.recv(4096)\n",
    "while True:\n",
    "    f = open(\"grabacion.wav\", \"rb\")\n",
    "    content = f.read(1024)\n",
    "        \n",
    "    while content:\n",
    "        # Enviar contenido.\n",
    "        sock.send(content)\n",
    "        content = f.read(1024)\n",
    "        \n",
    "    break\n",
    "    #hola\n",
    "    # Se utiliza el caracter de código 1 para indicar\n",
    "    # al cliente que ya se ha enviado todo el contenido.\n",
    "try:\n",
    "    sock.send(chr(1))\n",
    "except TypeError:\n",
    "    # Compatibilidad con Python 3.\n",
    "    sock.send(bytes(chr(1), \"utf-8\"))\n",
    "    \n",
    "    # Cerrar conexión y archivo.\n",
    "sock.close()\n",
    "f.close()\n",
    "print(\"El archivo ha sido enviado correctamente.\")\n",
    "# Leemos los datos del servidor\n",
    "#data = sock.recv(4096)\n",
    "#mens = \"Mensaje desde Cliente a Servidor >> \"\n",
    "#sock.send(mens.encode())\n",
    "# Cerramos el socket\n",
    "#sock.close()\n",
    "# Mostramos los datos recibidos\n",
    "print(data.decode())"
   ]
  }
 ],
 "metadata": {
  "kernelspec": {
   "display_name": "Python 3",
   "language": "python",
   "name": "python3"
  },
  "language_info": {
   "codemirror_mode": {
    "name": "ipython",
    "version": 3
   },
   "file_extension": ".py",
   "mimetype": "text/x-python",
   "name": "python",
   "nbconvert_exporter": "python",
   "pygments_lexer": "ipython3",
   "version": "3.7.4"
  }
 },
 "nbformat": 4,
 "nbformat_minor": 2
}
