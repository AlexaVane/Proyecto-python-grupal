{
 "cells": [
  {
   "cell_type": "code",
   "execution_count": null,
   "metadata": {},
   "outputs": [],
   "source": [
    "# Importamos las librerias necesarias\n",
    "import socket\n",
    "# Establecemos el tipo de socket/conexion\n",
    "sock = socket.socket(socket.AF_INET, socket.SOCK_STREAM)\n",
    "port = 5000 # Puerto de comunicacion\n",
    "# Realizamos la conexion al la IP y puerto\n",
    "sock.connect(('localhost',port))\n",
    "# Leemos los datos del servidor\n",
    "data = sock.recv(4096)\n",
    "# Cerramos el socket\n",
    "sock.close()\n",
    "# Mostramos los datos recibidos\n",
    "print(data.decode())"
   ]
  }
 ],
 "metadata": {
  "kernelspec": {
   "display_name": "Python 3",
   "language": "python",
   "name": "python3"
  },
  "language_info": {
   "codemirror_mode": {
    "name": "ipython",
    "version": 3
   },
   "file_extension": ".py",
   "mimetype": "text/x-python",
   "name": "python",
   "nbconvert_exporter": "python",
   "pygments_lexer": "ipython3",
   "version": "3.7.4"
  }
 },
 "nbformat": 4,
 "nbformat_minor": 2
}
