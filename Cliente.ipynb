{
 "cells": [
  {
   "cell_type": "code",
   "execution_count": 1,
   "metadata": {},
   "outputs": [
    {
     "ename": "ConnectionResetError",
     "evalue": "[WinError 10054] Se ha forzado la interrupción de una conexión existente por el host remoto",
     "output_type": "error",
     "traceback": [
      "\u001b[1;31m---------------------------------------------------------------------------\u001b[0m",
      "\u001b[1;31mConnectionResetError\u001b[0m                      Traceback (most recent call last)",
      "\u001b[1;32m<ipython-input-1-7452cd1540c6>\u001b[0m in \u001b[0;36m<module>\u001b[1;34m\u001b[0m\n\u001b[0;32m     14\u001b[0m     \u001b[1;32mwhile\u001b[0m \u001b[0mcontent\u001b[0m\u001b[1;33m:\u001b[0m\u001b[1;33m\u001b[0m\u001b[1;33m\u001b[0m\u001b[0m\n\u001b[0;32m     15\u001b[0m         \u001b[1;31m# Enviar contenido.\u001b[0m\u001b[1;33m\u001b[0m\u001b[1;33m\u001b[0m\u001b[1;33m\u001b[0m\u001b[0m\n\u001b[1;32m---> 16\u001b[1;33m         \u001b[0msock\u001b[0m\u001b[1;33m.\u001b[0m\u001b[0msend\u001b[0m\u001b[1;33m(\u001b[0m\u001b[0mcontent\u001b[0m\u001b[1;33m)\u001b[0m\u001b[1;33m\u001b[0m\u001b[1;33m\u001b[0m\u001b[0m\n\u001b[0m\u001b[0;32m     17\u001b[0m         \u001b[0mcontent\u001b[0m \u001b[1;33m=\u001b[0m \u001b[0mf\u001b[0m\u001b[1;33m.\u001b[0m\u001b[0mread\u001b[0m\u001b[1;33m(\u001b[0m\u001b[1;36m1024\u001b[0m\u001b[1;33m)\u001b[0m\u001b[1;33m\u001b[0m\u001b[1;33m\u001b[0m\u001b[0m\n\u001b[0;32m     18\u001b[0m \u001b[1;33m\u001b[0m\u001b[0m\n",
      "\u001b[1;31mConnectionResetError\u001b[0m: [WinError 10054] Se ha forzado la interrupción de una conexión existente por el host remoto"
     ]
    }
   ],
   "source": [
    "# Importamos las librerias necesarias\n",
    "import socket\n",
    "# Establecemos el tipo de socket/conexion\n",
    "sock = socket.socket(socket.AF_INET, socket.SOCK_STREAM)\n",
    "port = 5000 #puerto de comunicacion\n",
    "ip ='172.29.36.37'\n",
    "# Realizamos la conexion al la IP y puerto\n",
    "sock.connect((ip,port))\n",
    "data = sock.recv(4096)\n",
    "while True:\n",
    "    f = open(\"grabacion.wav\", \"rb\")\n",
    "    content = f.read(1024)\n",
    "        \n",
    "    while content:\n",
    "        # Enviar contenido.\n",
    "        sock.send(content)\n",
    "        content = f.read(1024)\n",
    "        \n",
    "    break\n",
    "    #hola\n",
    "    # Se utiliza el caracter de código 1 para indicar\n",
    "    # al cliente que ya se ha enviado todo el contenido.\n",
    "try:\n",
    "    sock.send(chr(1))\n",
    "except TypeError:\n",
    "    # Compatibilidad con Python 3.\n",
    "    sock.send(bytes(chr(1), \"utf-8\"))\n",
    "    \n",
    "    # Cerrar conexión y archivo.\n",
    "sock.close()\n",
    "f.close()\n",
    "print(\"El archivo ha sido enviado correctamente.\")\n",
    "# Leemos los datos del servidor\n",
    "#data = sock.recv(4096)\n",
    "#mens = \"Mensaje desde Cliente a Servidor >> \"\n",
    "#sock.send(mens.encode())\n",
    "# Cerramos el socket\n",
    "#sock.close()\n",
    "# Mostramos los datos recibidos\n",
    "print(data.decode())"
   ]
  },
  {
   "cell_type": "code",
   "execution_count": null,
   "metadata": {},
   "outputs": [],
   "source": []
  }
 ],
 "metadata": {
  "kernelspec": {
   "display_name": "Python 3",
   "language": "python",
   "name": "python3"
  },
  "language_info": {
   "codemirror_mode": {
    "name": "ipython",
    "version": 3
   },
   "file_extension": ".py",
   "mimetype": "text/x-python",
   "name": "python",
   "nbconvert_exporter": "python",
   "pygments_lexer": "ipython3",
   "version": "3.7.4"
  }
 },
 "nbformat": 4,
 "nbformat_minor": 2
}
